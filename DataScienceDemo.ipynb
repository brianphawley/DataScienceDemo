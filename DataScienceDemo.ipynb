{
  "nbformat": 4,
  "nbformat_minor": 0,
  "metadata": {
    "colab": {
      "provenance": [],
      "authorship_tag": "ABX9TyPvapVktuttWqBSUnzBzWDU",
      "include_colab_link": true
    },
    "kernelspec": {
      "name": "python3",
      "display_name": "Python 3"
    },
    "language_info": {
      "name": "python"
    }
  },
  "cells": [
    {
      "cell_type": "markdown",
      "metadata": {
        "id": "view-in-github",
        "colab_type": "text"
      },
      "source": [
        "<a href=\"https://colab.research.google.com/github/brianphawley/DataScienceDemo/blob/main/DataScienceDemo.ipynb\" target=\"_parent\"><img src=\"https://colab.research.google.com/assets/colab-badge.svg\" alt=\"Open In Colab\"/></a>"
      ]
    },
    {
      "cell_type": "markdown",
      "source": [
        "## Ingest"
      ],
      "metadata": {
        "id": "LvBoWxNfNscg"
      }
    },
    {
      "cell_type": "code",
      "source": [],
      "metadata": {
        "id": "mEu6W9X_Nwmo"
      },
      "execution_count": null,
      "outputs": []
    },
    {
      "cell_type": "markdown",
      "source": [
        "## EDA"
      ],
      "metadata": {
        "id": "yFB1q8iPN1gR"
      }
    },
    {
      "cell_type": "code",
      "source": [],
      "metadata": {
        "id": "nMjLJfc9N2zD"
      },
      "execution_count": null,
      "outputs": []
    },
    {
      "cell_type": "markdown",
      "source": [
        "## Modeling"
      ],
      "metadata": {
        "id": "wWh6ZG0GN3VC"
      }
    },
    {
      "cell_type": "markdown",
      "source": [
        "### Classification Algorithm A"
      ],
      "metadata": {
        "id": "MLpr7tN7OJzV"
      }
    },
    {
      "cell_type": "markdown",
      "source": [],
      "metadata": {
        "id": "vJOwTwa-OSaz"
      }
    },
    {
      "cell_type": "markdown",
      "source": [
        "### Classification Algorithm B\n"
      ],
      "metadata": {
        "id": "O-kF7U3AOMz_"
      }
    },
    {
      "cell_type": "markdown",
      "source": [],
      "metadata": {
        "id": "6UHllxY_OTh6"
      }
    },
    {
      "cell_type": "code",
      "source": [],
      "metadata": {
        "id": "2SiNuaREN3ov"
      },
      "execution_count": null,
      "outputs": []
    },
    {
      "cell_type": "markdown",
      "source": [
        "## Conclusion"
      ],
      "metadata": {
        "id": "6RQalWkWN8lT"
      }
    },
    {
      "cell_type": "code",
      "source": [],
      "metadata": {
        "id": "eZzDLooLN_j6"
      },
      "execution_count": null,
      "outputs": []
    }
  ]
}